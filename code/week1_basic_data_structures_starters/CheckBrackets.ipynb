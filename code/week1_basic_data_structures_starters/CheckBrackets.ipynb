{
 "cells": [
  {
   "cell_type": "code",
   "execution_count": 1,
   "metadata": {},
   "outputs": [],
   "source": [
    "class Bracket:\n",
    "    def __init__(self, bracket_type, position):\n",
    "        self.bracket_type = bracket_type\n",
    "        self.position = position\n",
    "\n",
    "    def Match(self, c):\n",
    "        if self.bracket_type == '[' and c == ']':\n",
    "            return True\n",
    "        if self.bracket_type == '{' and c == '}':\n",
    "            return True\n",
    "        if self.bracket_type == '(' and c == ')':\n",
    "            return True\n",
    "        return False"
   ]
  },
  {
   "cell_type": "code",
   "execution_count": 17,
   "metadata": {},
   "outputs": [
    {
     "name": "stdout",
     "output_type": "stream",
     "text": [
      "1\n"
     ]
    }
   ],
   "source": [
    "text = '{'\n",
    "opening_brackets_stack = []\n",
    "indicator = False\n",
    "for i, next in enumerate(text):\n",
    "    if next == '(' or next == '[' or next == '{':\n",
    "        # Process opening bracket, write your code here\n",
    "        opening_brackets_stack.append(Bracket(next, i))\n",
    "\n",
    "    if next == ')' or next == ']' or next == '}':\n",
    "        # Process closing bracket, write your code here\n",
    "        if not opening_brackets_stack:\n",
    "            indicator = True\n",
    "            print(i + 1)\n",
    "            break\n",
    "        if not opening_brackets_stack.pop().Match(next):\n",
    "            indicator = True\n",
    "            print(i + 1)\n",
    "            break\n",
    "\n",
    "# Printing answer, write your code here\n",
    "if not opening_brackets_stack and not indicator:\n",
    "    print('Success')\n",
    "if not indicator:\n",
    "    print(opening_brackets_stack[-1].position + 1)"
   ]
  },
  {
   "cell_type": "code",
   "execution_count": null,
   "metadata": {},
   "outputs": [],
   "source": []
  }
 ],
 "metadata": {
  "kernelspec": {
   "display_name": "Python 3",
   "language": "python",
   "name": "python3"
  },
  "language_info": {
   "codemirror_mode": {
    "name": "ipython",
    "version": 3
   },
   "file_extension": ".py",
   "mimetype": "text/x-python",
   "name": "python",
   "nbconvert_exporter": "python",
   "pygments_lexer": "ipython3",
   "version": "3.7.3"
  }
 },
 "nbformat": 4,
 "nbformat_minor": 2
}
